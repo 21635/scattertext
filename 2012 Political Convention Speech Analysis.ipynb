{
 "cells": [
  {
   "cell_type": "code",
   "execution_count": 85,
   "metadata": {
    "collapsed": false
   },
   "outputs": [],
   "source": [
    "import texttoideas as TI\n",
    "import pandas as pd\n",
    "import numpy as np\n",
    "from pprint import pprint\n",
    "from texttoideas.TermDocMatrix import TermDocMatrix, build_from_category_spacy_doc_iter\n"
   ]
  },
  {
   "cell_type": "code",
   "execution_count": null,
   "metadata": {
    "collapsed": false
   },
   "outputs": [],
   "source": [
    "speeches = list(TI.iter_party_convention_speech(convention_speech_iter = TI.convention_speech_iter()))"
   ]
  },
  {
   "cell_type": "code",
   "execution_count": 61,
   "metadata": {
    "collapsed": false
   },
   "outputs": [
    {
     "name": "stdout",
     "output_type": "stream",
     "text": [
      "[[u'democrat',\n",
      "  'Thank you. Thank you. Thank you. Thank you so much.Thank you.Thank you so much. Thank you. Thank you'],\n",
      " [u'democrat',\n",
      "  'Thank you so much. Tonight, I am so thrilled and so honored and so proud to introduce the love of my'],\n",
      " [u'democrat',\n",
      "  'Thank you. It is a singular honor to be here tonight. Eight years ago in Boston, I introduced you to']]\n",
      "[[u'republican',\n",
      "  'To Chairman Priebus and to my fellow Americans who have traveled from every corner of this great cou'],\n",
      " [u'republican',\n",
      "  'Absolutely. Thank you, Mr.Chairman.\\nWelcome, everyone, to my home state of Florida, and we are so h'],\n",
      " [u'republican',\n",
      "  \"I am thrilled to add Utah's voice in support for Mitt Romney. Let me tell you about the America I kn\"]]\n"
     ]
    }
   ],
   "source": [
    "pprint([[cat, str(text)[:100].strip()] for cat, text in speeches[:3]])\n",
    "pprint([[cat, str(text)[:100].strip()] for cat, text in speeches[-3:]])"
   ]
  },
  {
   "cell_type": "code",
   "execution_count": null,
   "metadata": {
    "collapsed": false
   },
   "outputs": [],
   "source": [
    "term_doc_mat = build_from_category_spacy_doc_iter(speeches)"
   ]
  },
  {
   "cell_type": "code",
   "execution_count": 49,
   "metadata": {
    "collapsed": false
   },
   "outputs": [],
   "source": [
    "kessler_df = (term_doc_mat\n",
    "      .get_kessler_scores_vs_background(scaler_algo='normcdf')\n",
    "      .sort_values(by='kessler', ascending = False))\n",
    "rudder_df = (term_doc_mat\n",
    "      .get_rudder_scores_vs_background()\n",
    "      .sort_values(by='rudder', ascending = True))\n",
    "postratio_df = (term_doc_mat\n",
    "      .get_posterior_mean_ratio_scores_vs_background()\n",
    "      .sort_values(by='Log Posterior Mean Ratio', ascending = False))\n"
   ]
  },
  {
   "cell_type": "code",
   "execution_count": 22,
   "metadata": {
    "collapsed": false
   },
   "outputs": [],
   "source": [
    "fisher_df = term_doc_mat.get_fisher_scores_vs_background()"
   ]
  },
  {
   "cell_type": "code",
   "execution_count": 34,
   "metadata": {
    "collapsed": true
   },
   "outputs": [],
   "source": [
    "top_20_fisher = (fisher_df\n",
    "                 .sort_values(by=['Bonferroni-corrected p-values', 'Odds ratio'], \n",
    "                              ascending = [True, False]).index[:20])"
   ]
  },
  {
   "cell_type": "markdown",
   "metadata": {},
   "source": [
    "## Different methods for comparing 2012 convention speeches to background unigram counts"
   ]
  },
  {
   "cell_type": "code",
   "execution_count": 118,
   "metadata": {
    "collapsed": false
   },
   "outputs": [
    {
     "data": {
      "text/html": [
       "<div>\n",
       "<table border=\"1\" class=\"dataframe\">\n",
       "  <thead>\n",
       "    <tr style=\"text-align: right;\">\n",
       "      <th></th>\n",
       "      <th>Top Fisher Terms (Freq)</th>\n",
       "      <th>Top Kessler Terms (Freq)</th>\n",
       "      <th>Top Rudder Terms (Freq)</th>\n",
       "    </tr>\n",
       "  </thead>\n",
       "  <tbody>\n",
       "    <tr>\n",
       "      <th>0</th>\n",
       "      <td>thank (366)</td>\n",
       "      <td>obama (702)</td>\n",
       "      <td>obamacare (33)</td>\n",
       "    </tr>\n",
       "    <tr>\n",
       "      <th>1</th>\n",
       "      <td>you (1627)</td>\n",
       "      <td>romney (570)</td>\n",
       "      <td>romneys (8)</td>\n",
       "    </tr>\n",
       "    <tr>\n",
       "      <th>2</th>\n",
       "      <td>so (553)</td>\n",
       "      <td>mitt (501)</td>\n",
       "      <td>yohana (3)</td>\n",
       "    </tr>\n",
       "    <tr>\n",
       "      <th>3</th>\n",
       "      <td>much (159)</td>\n",
       "      <td>barack (248)</td>\n",
       "      <td>nevadan (2)</td>\n",
       "    </tr>\n",
       "    <tr>\n",
       "      <th>4</th>\n",
       "      <td>very (137)</td>\n",
       "      <td>republican (228)</td>\n",
       "      <td>solyndra (2)</td>\n",
       "    </tr>\n",
       "    <tr>\n",
       "      <th>5</th>\n",
       "      <td>everybody (30)</td>\n",
       "      <td>bless (132)</td>\n",
       "      <td>breth (2)</td>\n",
       "    </tr>\n",
       "    <tr>\n",
       "      <th>6</th>\n",
       "      <td>michelle (20)</td>\n",
       "      <td>president (1049)</td>\n",
       "      <td>outeducate (2)</td>\n",
       "    </tr>\n",
       "    <tr>\n",
       "      <th>7</th>\n",
       "      <td>i (1948)</td>\n",
       "      <td>democrat (127)</td>\n",
       "      <td>vouchercare (2)</td>\n",
       "    </tr>\n",
       "    <tr>\n",
       "      <th>8</th>\n",
       "      <td>love (135)</td>\n",
       "      <td>elect (102)</td>\n",
       "      <td>bendiga (2)</td>\n",
       "    </tr>\n",
       "    <tr>\n",
       "      <th>9</th>\n",
       "      <td>a (2942)</td>\n",
       "      <td>biden (46)</td>\n",
       "      <td>gjelsvik (2)</td>\n",
       "    </tr>\n",
       "    <tr>\n",
       "      <th>10</th>\n",
       "      <td>few (88)</td>\n",
       "      <td>governor (172)</td>\n",
       "      <td>carlette (1)</td>\n",
       "    </tr>\n",
       "    <tr>\n",
       "      <th>11</th>\n",
       "      <td>night (58)</td>\n",
       "      <td>obamacare (33)</td>\n",
       "      <td>valora (1)</td>\n",
       "    </tr>\n",
       "    <tr>\n",
       "      <th>12</th>\n",
       "      <td>ago (121)</td>\n",
       "      <td>ryan (154)</td>\n",
       "      <td>overleveraged (1)</td>\n",
       "    </tr>\n",
       "    <tr>\n",
       "      <th>13</th>\n",
       "      <td>be (4298)</td>\n",
       "      <td>dream (236)</td>\n",
       "      <td>flipfrom (1)</td>\n",
       "    </tr>\n",
       "    <tr>\n",
       "      <th>14</th>\n",
       "      <td>remind (36)</td>\n",
       "      <td>proud (140)</td>\n",
       "      <td>pudimos (1)</td>\n",
       "    </tr>\n",
       "    <tr>\n",
       "      <th>15</th>\n",
       "      <td>just (337)</td>\n",
       "      <td>grandchild (34)</td>\n",
       "      <td>luchara (1)</td>\n",
       "    </tr>\n",
       "    <tr>\n",
       "      <th>16</th>\n",
       "      <td>what (583)</td>\n",
       "      <td>medicare (99)</td>\n",
       "      <td>renominating (1)</td>\n",
       "    </tr>\n",
       "    <tr>\n",
       "      <th>17</th>\n",
       "      <td>lucky (9)</td>\n",
       "      <td>tonight (150)</td>\n",
       "      <td>renominate (1)</td>\n",
       "    </tr>\n",
       "    <tr>\n",
       "      <th>18</th>\n",
       "      <td>man (201)</td>\n",
       "      <td>thank (366)</td>\n",
       "      <td>aportado (1)</td>\n",
       "    </tr>\n",
       "    <tr>\n",
       "      <th>19</th>\n",
       "      <td>malia (1)</td>\n",
       "      <td>fight (196)</td>\n",
       "      <td>oparowsky (1)</td>\n",
       "    </tr>\n",
       "  </tbody>\n",
       "</table>\n",
       "</div>"
      ],
      "text/plain": [
       "   Top Fisher Terms (Freq) Top Kessler Terms (Freq) Top Rudder Terms (Freq)\n",
       "0              thank (366)              obama (702)          obamacare (33)\n",
       "1               you (1627)             romney (570)             romneys (8)\n",
       "2                 so (553)               mitt (501)              yohana (3)\n",
       "3               much (159)             barack (248)             nevadan (2)\n",
       "4               very (137)         republican (228)            solyndra (2)\n",
       "5           everybody (30)              bless (132)               breth (2)\n",
       "6            michelle (20)         president (1049)          outeducate (2)\n",
       "7                 i (1948)           democrat (127)         vouchercare (2)\n",
       "8               love (135)              elect (102)             bendiga (2)\n",
       "9                 a (2942)               biden (46)            gjelsvik (2)\n",
       "10                few (88)           governor (172)            carlette (1)\n",
       "11              night (58)           obamacare (33)              valora (1)\n",
       "12               ago (121)               ryan (154)       overleveraged (1)\n",
       "13               be (4298)              dream (236)            flipfrom (1)\n",
       "14             remind (36)              proud (140)             pudimos (1)\n",
       "15              just (337)          grandchild (34)             luchara (1)\n",
       "16              what (583)            medicare (99)        renominating (1)\n",
       "17               lucky (9)            tonight (150)          renominate (1)\n",
       "18               man (201)              thank (366)            aportado (1)\n",
       "19               malia (1)              fight (196)           oparowsky (1)"
      ]
     },
     "execution_count": 118,
     "metadata": {},
     "output_type": "execute_result"
    }
   ],
   "source": [
    "comparison_to_background_corpora = pd.DataFrame({\n",
    "        'Top Kessler Terms (Freq)':list(kessler_df.iloc[:20].apply(lambda x: x.name + ' (%s)' % (int(x['corpus'])), axis=1)),\n",
    "        'Top Rudder Terms (Freq)':list(rudder_df.iloc[:20].apply(lambda x: x.name + ' (%s)' % (int(x['corpus'])), axis=1)),\n",
    "        'Top Fisher Terms (Freq)':list(fisher_df.iloc[:20].apply(lambda x: x.name + ' (%s)' % (int(x['corpus'])), axis=1))\n",
    "    })\n",
    "comparison_to_background_corpora\n"
   ]
  },
  {
   "cell_type": "code",
   "execution_count": 139,
   "metadata": {
    "collapsed": false
   },
   "outputs": [],
   "source": [
    "df = term_doc_mat.get_term_freq_df()\n",
    "df['kessler dem'] = np.array(term_doc_mat.get_kessler_scores('democrat', scaler_algo='percentile'))\n",
    "df['kessler rep'] = np.array(term_doc_mat.get_kessler_scores('republican', scaler_algo='percentile'))\n",
    "df['rudder dem'] = term_doc_mat.get_rudder_scores('democrat')\n",
    "df['rudder rep'] = term_doc_mat.get_rudder_scores('republican')\n",
    "df['logreg dem'], acc, bl = term_doc_mat.get_logistic_regression_coefs('democrat')\n",
    "df['logreg rep'], acc, bl = term_doc_mat.get_logistic_regression_coefs('republican')\n"
   ]
  },
  {
   "cell_type": "code",
   "execution_count": 143,
   "metadata": {
    "collapsed": false
   },
   "outputs": [
    {
     "name": "stdout",
     "output_type": "stream",
     "text": [
      "Democratic Associations\n"
     ]
    },
    {
     "data": {
      "text/html": [
       "<div>\n",
       "<table border=\"1\" class=\"dataframe\">\n",
       "  <thead>\n",
       "    <tr style=\"text-align: right;\">\n",
       "      <th></th>\n",
       "      <th>Kessler (Freq)</th>\n",
       "      <th>Ridge (Freq)</th>\n",
       "      <th>Rudder (Freq)</th>\n",
       "    </tr>\n",
       "  </thead>\n",
       "  <tbody>\n",
       "    <tr>\n",
       "      <th>0</th>\n",
       "      <td>fight for (108)</td>\n",
       "      <td>obama (537)</td>\n",
       "      <td>auto (37)</td>\n",
       "    </tr>\n",
       "    <tr>\n",
       "      <th>1</th>\n",
       "      <td>auto (37)</td>\n",
       "      <td>president obama (351)</td>\n",
       "      <td>insurance company (28)</td>\n",
       "    </tr>\n",
       "    <tr>\n",
       "      <th>2</th>\n",
       "      <td>fair (47)</td>\n",
       "      <td>president (746)</td>\n",
       "      <td>america forward (28)</td>\n",
       "    </tr>\n",
       "    <tr>\n",
       "      <th>3</th>\n",
       "      <td>insurance company (28)</td>\n",
       "      <td>for (1020)</td>\n",
       "      <td>auto industry (24)</td>\n",
       "    </tr>\n",
       "    <tr>\n",
       "      <th>4</th>\n",
       "      <td>america forward (28)</td>\n",
       "      <td>barack (202)</td>\n",
       "      <td>pell (23)</td>\n",
       "    </tr>\n",
       "    <tr>\n",
       "      <th>5</th>\n",
       "      <td>middle class (149)</td>\n",
       "      <td>forward (105)</td>\n",
       "      <td>wealthy (23)</td>\n",
       "    </tr>\n",
       "    <tr>\n",
       "      <th>6</th>\n",
       "      <td>president barack (47)</td>\n",
       "      <td>fight (165)</td>\n",
       "      <td>pell grant (23)</td>\n",
       "    </tr>\n",
       "    <tr>\n",
       "      <th>7</th>\n",
       "      <td>auto industry (24)</td>\n",
       "      <td>fight for (108)</td>\n",
       "      <td>last week (22)</td>\n",
       "    </tr>\n",
       "    <tr>\n",
       "      <th>8</th>\n",
       "      <td>pell grant (23)</td>\n",
       "      <td>class (162)</td>\n",
       "      <td>the wealthy (21)</td>\n",
       "    </tr>\n",
       "    <tr>\n",
       "      <th>9</th>\n",
       "      <td>pell (23)</td>\n",
       "      <td>barack obama (164)</td>\n",
       "      <td>romney say (21)</td>\n",
       "    </tr>\n",
       "    <tr>\n",
       "      <th>10</th>\n",
       "      <td>wealthy (23)</td>\n",
       "      <td>middle class (149)</td>\n",
       "      <td>millionaire (20)</td>\n",
       "    </tr>\n",
       "    <tr>\n",
       "      <th>11</th>\n",
       "      <td>insurance (54)</td>\n",
       "      <td>she (111)</td>\n",
       "      <td>platform (20)</td>\n",
       "    </tr>\n",
       "    <tr>\n",
       "      <th>12</th>\n",
       "      <td>last week (22)</td>\n",
       "      <td>middle (164)</td>\n",
       "      <td>voucher (19)</td>\n",
       "    </tr>\n",
       "    <tr>\n",
       "      <th>13</th>\n",
       "      <td>veteran (48)</td>\n",
       "      <td>that ' (236)</td>\n",
       "      <td>coverage (18)</td>\n",
       "    </tr>\n",
       "    <tr>\n",
       "      <th>14</th>\n",
       "      <td>woman 's (27)</td>\n",
       "      <td>cut (118)</td>\n",
       "      <td>equal pay (17)</td>\n",
       "    </tr>\n",
       "    <tr>\n",
       "      <th>15</th>\n",
       "      <td>the wealthy (21)</td>\n",
       "      <td>veteran (48)</td>\n",
       "      <td>troop (17)</td>\n",
       "    </tr>\n",
       "    <tr>\n",
       "      <th>16</th>\n",
       "      <td>romney say (21)</td>\n",
       "      <td>pay (122)</td>\n",
       "      <td>the auto (17)</td>\n",
       "    </tr>\n",
       "    <tr>\n",
       "      <th>17</th>\n",
       "      <td>affordable (31)</td>\n",
       "      <td>care (141)</td>\n",
       "      <td>our troop (16)</td>\n",
       "    </tr>\n",
       "    <tr>\n",
       "      <th>18</th>\n",
       "      <td>platform (20)</td>\n",
       "      <td>medicare (84)</td>\n",
       "      <td>obama know (16)</td>\n",
       "    </tr>\n",
       "    <tr>\n",
       "      <th>19</th>\n",
       "      <td>millionaire (20)</td>\n",
       "      <td>i be (279)</td>\n",
       "      <td>a fair (16)</td>\n",
       "    </tr>\n",
       "  </tbody>\n",
       "</table>\n",
       "</div>"
      ],
      "text/plain": [
       "            Kessler (Freq)           Ridge (Freq)           Rudder (Freq)\n",
       "0          fight for (108)            obama (537)               auto (37)\n",
       "1                auto (37)  president obama (351)  insurance company (28)\n",
       "2                fair (47)        president (746)    america forward (28)\n",
       "3   insurance company (28)             for (1020)      auto industry (24)\n",
       "4     america forward (28)           barack (202)               pell (23)\n",
       "5       middle class (149)          forward (105)            wealthy (23)\n",
       "6    president barack (47)            fight (165)         pell grant (23)\n",
       "7       auto industry (24)        fight for (108)          last week (22)\n",
       "8          pell grant (23)            class (162)        the wealthy (21)\n",
       "9                pell (23)     barack obama (164)         romney say (21)\n",
       "10            wealthy (23)     middle class (149)        millionaire (20)\n",
       "11          insurance (54)              she (111)           platform (20)\n",
       "12          last week (22)           middle (164)            voucher (19)\n",
       "13            veteran (48)           that ' (236)           coverage (18)\n",
       "14           woman 's (27)              cut (118)          equal pay (17)\n",
       "15        the wealthy (21)           veteran (48)              troop (17)\n",
       "16         romney say (21)              pay (122)           the auto (17)\n",
       "17         affordable (31)             care (141)          our troop (16)\n",
       "18           platform (20)          medicare (84)         obama know (16)\n",
       "19        millionaire (20)             i be (279)             a fair (16)"
      ]
     },
     "execution_count": 143,
     "metadata": {},
     "output_type": "execute_result"
    }
   ],
   "source": [
    "print 'Democratic Associations'\n",
    "pd.DataFrame({\n",
    "        'Rudder (Freq)': list(df.sort_values(by='rudder dem')\n",
    "                              .apply(lambda x: x.name + ' (%s)' % (int(x['democrat freq'])), axis=1)[:20]),\n",
    "        'Kessler (Freq)': list(df.sort_values(by='kessler dem', ascending=False)\n",
    "                               .apply(lambda x: x.name + ' (%s)' % (int(x['democrat freq'])), axis=1)[:20]), \n",
    "        'Ridge (Freq)': list(df.sort_values(by='logreg dem', ascending=False)\n",
    "                               .apply(lambda x: x.name + ' (%s)' % (int(x['democrat freq'])), axis=1)[:20]) \n",
    "})\n"
   ]
  },
  {
   "cell_type": "code",
   "execution_count": null,
   "metadata": {
    "collapsed": true
   },
   "outputs": [],
   "source": []
  }
 ],
 "metadata": {
  "kernelspec": {
   "display_name": "Python 2",
   "language": "python",
   "name": "python2"
  },
  "language_info": {
   "codemirror_mode": {
    "name": "ipython",
    "version": 2
   },
   "file_extension": ".py",
   "mimetype": "text/x-python",
   "name": "python",
   "nbconvert_exporter": "python",
   "pygments_lexer": "ipython2",
   "version": "2.7.12"
  }
 },
 "nbformat": 4,
 "nbformat_minor": 0
}
