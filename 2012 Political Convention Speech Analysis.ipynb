{
 "cells": [
  {
   "cell_type": "code",
   "execution_count": 1,
   "metadata": {
    "collapsed": false
   },
   "outputs": [],
   "source": [
    "%matplotlib inline\n",
    "import texttoideas as TI\n",
    "import pandas as pd\n",
    "import numpy as np\n",
    "from pprint import pprint\n",
    "from texttoideas.TermDocMatrix import TermDocMatrix, build_from_category_spacy_doc_iter\n",
    "from texttoideas.RudderChart import *\n",
    "import mpld3, imp\n",
    "mpld3.enable_notebook()"
   ]
  },
  {
   "cell_type": "code",
   "execution_count": null,
   "metadata": {
    "collapsed": false
   },
   "outputs": [],
   "source": []
  },
  {
   "cell_type": "code",
   "execution_count": 2,
   "metadata": {
    "collapsed": false
   },
   "outputs": [
    {
     "name": "stdout",
     "output_type": "stream",
     "text": [
      "category democrat\n",
      "# speeches 123\n",
      "category republican\n",
      "# speeches 66\n"
     ]
    }
   ],
   "source": [
    "speeches = list(TI.iter_party_convention_speech(convention_speech_iter = TI.convention_speech_iter()))"
   ]
  },
  {
   "cell_type": "code",
   "execution_count": 3,
   "metadata": {
    "collapsed": false
   },
   "outputs": [
    {
     "name": "stdout",
     "output_type": "stream",
     "text": [
      "[[u'democrat',\n",
      "  'Thank you. Thank you. Thank you. Thank you so much.Thank you.Thank you so much. Thank you. Thank you'],\n",
      " [u'democrat',\n",
      "  'Thank you so much. Tonight, I am so thrilled and so honored and so proud to introduce the love of my'],\n",
      " [u'democrat',\n",
      "  'Thank you. It is a singular honor to be here tonight. Eight years ago in Boston, I introduced you to']]\n",
      "[[u'republican',\n",
      "  'To Chairman Priebus and to my fellow Americans who have traveled from every corner of this great cou'],\n",
      " [u'republican',\n",
      "  'Absolutely. Thank you, Mr.Chairman.\\nWelcome, everyone, to my home state of Florida, and we are so h'],\n",
      " [u'republican',\n",
      "  \"I am thrilled to add Utah's voice in support for Mitt Romney. Let me tell you about the America I kn\"]]\n"
     ]
    }
   ],
   "source": [
    "pprint([[cat, str(text)[:100].strip()] for cat, text in speeches[:3]])\n",
    "pprint([[cat, str(text)[:100].strip()] for cat, text in speeches[-3:]])"
   ]
  },
  {
   "cell_type": "code",
   "execution_count": 4,
   "metadata": {
    "collapsed": false
   },
   "outputs": [],
   "source": [
    "imp.reload(TI)\n",
    "term_doc_mat = TI.build_from_category_spacy_doc_iter(speeches)"
   ]
  },
  {
   "cell_type": "code",
   "execution_count": 5,
   "metadata": {
    "collapsed": false,
    "scrolled": true
   },
   "outputs": [
    {
     "name": "stdout",
     "output_type": "stream",
     "text": [
      "137966\n",
      "570\n",
      "369016983229\n",
      "corpus           570\n",
      "background    695398\n",
      "Name: romney, dtype: float64\n",
      "[[570, 137396], [695398.0, 588123524789.0]]\n",
      "(3508.6163308626865, 0.0)\n"
     ]
    }
   ],
   "source": [
    "df = term_doc_mat.get_term_freq_df()\n",
    "print df.ix[[x for x in df.index if ' ' not in x]].sum().sum()\n",
    "print df.ix['romney'].sum()\n",
    "dfbg = term_doc_mat._get_corpus_joined_to_background()\n",
    "print '%d' % (dfbg.ix[[x for x in df.index if ' ' not in x]].sum().sum())\n",
    "print dfbg.ix['romney']\n",
    "import scipy.stats as stats\n",
    "#total_corpus = dfbg.ix[[x for x in df.index if ' ' not in x]].sum().sum()\n",
    "romeny_corpus = dfbg.ix['romney']['background']\n",
    "table = [[570, 137966 - 570], \n",
    "         [dfbg.ix['romney']['background'], \n",
    "          dfbg['background'].sum() - dfbg.ix['romney']['background']]]\n",
    "print table\n",
    "print stats.fisher_exact(table, alternative='greater')\n",
    "\n"
   ]
  },
  {
   "cell_type": "code",
   "execution_count": null,
   "metadata": {
    "collapsed": false
   },
   "outputs": [],
   "source": [
    "scaled_f_score_df = (term_doc_mat\n",
    "      .get_scaled_f_score_scores_vs_background(scaler_algo='none')\n",
    "      .sort_values(by='scaled_f_score', ascending = False))\n",
    "rudder_df = (term_doc_mat\n",
    "      .get_rudder_scores_vs_background()\n",
    "      .sort_values(by='rudder', ascending = True))\n",
    "postratio_df = (term_doc_mat\n",
    "      .get_posterior_mean_ratio_scores_vs_background()\n",
    "      .sort_values(by='Log Posterior Mean Ratio', ascending = False))\n"
   ]
  },
  {
   "cell_type": "code",
   "execution_count": null,
   "metadata": {
    "collapsed": false
   },
   "outputs": [],
   "source": [
    "fisher_df = term_doc_mat.get_fisher_scores_vs_background()"
   ]
  },
  {
   "cell_type": "code",
   "execution_count": null,
   "metadata": {
    "collapsed": true
   },
   "outputs": [],
   "source": [
    "fisher_df = fisher_df.sort_values(by=['Bonferroni-corrected p-values', 'Odds ratio'], ascending=[True, False])"
   ]
  },
  {
   "cell_type": "code",
   "execution_count": null,
   "metadata": {
    "collapsed": true
   },
   "outputs": [],
   "source": [
    "top_20_fisher = (fisher_df\n",
    "                 .sort_values(by=['Bonferroni-corrected p-values', 'Odds ratio'], \n",
    "                              ascending = [True, False]).index[:20])"
   ]
  },
  {
   "cell_type": "code",
   "execution_count": null,
   "metadata": {
    "collapsed": false
   },
   "outputs": [],
   "source": []
  },
  {
   "cell_type": "markdown",
   "metadata": {},
   "source": [
    "## Different methods for comparing 2012 convention speeches to background unigram counts"
   ]
  },
  {
   "cell_type": "code",
   "execution_count": null,
   "metadata": {
    "collapsed": false
   },
   "outputs": [],
   "source": [
    "\n",
    "def get_text(x):\n",
    "    return x.name + '%s (%d)' % ('*' if x['background'] == 0 else '', x['corpus'])\n",
    "comparison_to_background_corpora = pd.DataFrame({\n",
    "        'Top F-Score Terms (Freq)':list(scaled_f_score_df.iloc[:20].apply(get_text, axis=1)),\n",
    "        'Top Rudder Terms (Freq)':list(rudder_df.iloc[:20].apply(get_text, axis=1)),\n",
    "        'Top Fisher Terms (Freq)':list(fisher_df.iloc[:20].apply(get_text, axis=1))\n",
    "    })\n",
    "comparison_to_background_corpora[:12]\n"
   ]
  },
  {
   "cell_type": "code",
   "execution_count": null,
   "metadata": {
    "collapsed": false
   },
   "outputs": [],
   "source": [
    "\n",
    "df = term_doc_mat.get_term_freq_df()\n",
    "df['fscore dem'] = np.array(term_doc_mat.get_scaled_f_scores('democrat', scaler_algo='percentile'))\n",
    "df['fscore rep'] = np.array(term_doc_mat.get_scaled_f_scores('republican', scaler_algo='percentile'))\n",
    "df['rudder dem'] = term_doc_mat.get_rudder_scores('democrat')\n",
    "df['rudder rep'] = term_doc_mat.get_rudder_scores('republican')\n",
    "df['logregl2 dem'], acc, bl = term_doc_mat.get_logistic_regression_coefs_l2('democrat')\n",
    "df['logregl2 rep'], acc, bl = term_doc_mat.get_logistic_regression_coefs_l2('republican')\n",
    "df['logregl1 dem'], acc, bl = term_doc_mat.get_logistic_regression_coefs_l1('democrat')\n",
    "df['logregl1 rep'], acc, bl = term_doc_mat.get_logistic_regression_coefs_l1('democrat')\n"
   ]
  },
  {
   "cell_type": "code",
   "execution_count": null,
   "metadata": {
    "collapsed": false
   },
   "outputs": [],
   "source": []
  },
  {
   "cell_type": "code",
   "execution_count": null,
   "metadata": {
    "collapsed": false
   },
   "outputs": [],
   "source": [
    "print 'Democratic Associations'\n",
    "pd.DataFrame({\n",
    "        'Rudder (Freq)': list(df.sort_values(by='rudder dem')\n",
    "                              .apply(lambda x: x.name + ' (%s)' % (int(x['democrat freq'])), axis=1)[:20]),\n",
    "        'F-Score (Freq)': list(df.sort_values(by='kessler dem', ascending=False)\n",
    "                               .apply(lambda x: x.name + ' (%s)' % (int(x['democrat freq'])), axis=1)[:20]), \n",
    "        'Ridge (Freq)': list(df.sort_values(by='logregl2 dem', ascending=False)\n",
    "                               .apply(lambda x: x.name + ' (%s)' % (int(x['democrat freq'])), axis=1)[:20]) \n",
    "})\n"
   ]
  },
  {
   "cell_type": "code",
   "execution_count": null,
   "metadata": {
    "collapsed": false,
    "scrolled": false
   },
   "outputs": [],
   "source": [
    "import imp\n",
    "imp.reload(texttoideas.RudderChart)\n",
    "rudder_chart = texttoideas.RudderChart.RudderChart(term_doc_mat, \n",
    "                                                   jitter=0.1)\n",
    "plt.rcParams['figure.figsize'] = (10, 10)\n",
    "drawn_df, fig_html = rudder_chart.draw('democrat', \n",
    "                                       num_top_words_to_annotate = 0,\n",
    "                                       words_to_annotate=['the', 'america forward', 'auto', \n",
    "                                                          'pell', 'affordable', 'fight for',\n",
    "                                                         'israel', 'tax cut', 'security', \n",
    "                                                         'michelle', 'last week',\n",
    "                                                          'big government',\n",
    "                                                          'olympics', 'ann',\n",
    "                                                          'small business',\n",
    "                                                          'success',\n",
    "                                                          'boy',\n",
    "                                                          'girl',\n",
    "                                                          'restore',\n",
    "                                                          'grandfather',\n",
    "                                                          'grandmother',\n",
    "                                                          'daughter',\n",
    "                                                          'god bless'\n",
    "                                                         'ideology',\n",
    "                                                         'mr. president',\n",
    "                                                         'restore',\n",
    "                                                         'reagan',\n",
    "                                                          'church',\n",
    "                                                          'trickle down',\n",
    "                                                          'rosevelt',\n",
    "                                                          '10 million',\n",
    "                                                          'vice presidential',\n",
    "                                                         'creator',\n",
    "                                                         'reformer',\n",
    "                                                         'unemployment'])\n",
    "open('fig.html','w').write(fig_html)"
   ]
  },
  {
   "cell_type": "code",
   "execution_count": null,
   "metadata": {
    "collapsed": false
   },
   "outputs": [],
   "source": [
    "term_doc_mat._category_idx_store = texttoideas.IndexStore()\n",
    "term_doc_mat._category_idx_store.getidx('democrat')\n",
    "term_doc_mat._category_idx_store.getidx('republican')\n"
   ]
  },
  {
   "cell_type": "code",
   "execution_count": null,
   "metadata": {
    "collapsed": false
   },
   "outputs": [],
   "source": []
  },
  {
   "cell_type": "code",
   "execution_count": null,
   "metadata": {
    "collapsed": true
   },
   "outputs": [],
   "source": []
  }
 ],
 "metadata": {
  "kernelspec": {
   "display_name": "Python 2",
   "language": "python",
   "name": "python2"
  },
  "language_info": {
   "codemirror_mode": {
    "name": "ipython",
    "version": 2
   },
   "file_extension": ".py",
   "mimetype": "text/x-python",
   "name": "python",
   "nbconvert_exporter": "python",
   "pygments_lexer": "ipython2",
   "version": "2.7.12"
  }
 },
 "nbformat": 4,
 "nbformat_minor": 0
}
